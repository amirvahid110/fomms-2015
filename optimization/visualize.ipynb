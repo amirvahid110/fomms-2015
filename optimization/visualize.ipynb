{
 "cells": [
  {
   "cell_type": "markdown",
   "metadata": {},
   "source": [
    "#Crystal Visualization\n",
    "\n",
    "Use this to view crystal json files outputted from the [optimization](https://github.com/patrickfuller/fomms-2015/tree/master/optimization) tutorial.\n",
    "\n",
    "To use, first install [imolecule](https://github.com/patrickfuller/imolecule) with `pip install imolecule`. Run the cell below, and then run the `view` function as needed."
   ]
  },
  {
   "cell_type": "code",
   "execution_count": null,
   "metadata": {
    "collapsed": true
   },
   "outputs": [],
   "source": [
    "import json\n",
    "import numpy as np\n",
    "import imolecule\n",
    "\n",
    "def to_cartesian(fractional_crystal):\n",
    "    \"\"\"Converts fractional coordinates to cartesian.\"\"\"\n",
    "    uc = np.matrix(fractional_crystal[\"unitcell\"])\n",
    "    output = {\"atoms\": [], \"unitcell\": fractional_crystal[\"unitcell\"]}\n",
    "    for atom in fractional_crystal[\"atoms\"]:\n",
    "        cartesian = uc.dot(np.array(atom[\"location\"]) - 0.5).tolist()[0]\n",
    "        output[\"atoms\"].append({\"location\": cartesian, \"element\": atom[\"element\"], \"label\": atom[\"label\"]})\n",
    "    return output\n",
    "\n",
    "def view(filename, draw_type=\"ball and stick\", size=(800, 600), shader=\"lambert\"):\n",
    "    \"\"\"Converts fractional coordinates and renders with webGL.\"\"\"\n",
    "    with open(filename) as in_file:\n",
    "        crystal = json.load(in_file)\n",
    "    imolecule.draw(to_cartesian(crystal), format=\"json\", drawing_type=draw_type, size=size, shader=shader)"
   ]
  },
  {
   "cell_type": "code",
   "execution_count": null,
   "metadata": {
    "collapsed": false
   },
   "outputs": [],
   "source": [
    "view(\"unpacked.json\")"
   ]
  }
 ],
 "metadata": {
  "kernelspec": {
   "display_name": "Python 3",
   "language": "python",
   "name": "python3"
  },
  "language_info": {
   "codemirror_mode": {
    "name": "ipython",
    "version": 3
   },
   "file_extension": ".py",
   "mimetype": "text/x-python",
   "name": "python",
   "nbconvert_exporter": "python",
   "pygments_lexer": "ipython3",
   "version": "3.4.3"
  }
 },
 "nbformat": 4,
 "nbformat_minor": 0
}
